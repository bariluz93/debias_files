{
 "cells": [
  {
   "cell_type": "code",
   "execution_count": 2,
   "id": "060cc51d",
   "metadata": {
    "pycharm": {
     "name": "#%%\n"
    }
   },
   "outputs": [],
   "source": [
    "import pandas as pd"
   ]
  },
  {
   "cell_type": "code",
   "execution_count": 244,
   "id": "4a5a32e5",
   "metadata": {
    "pycharm": {
     "name": "#%%\n"
    }
   },
   "outputs": [],
   "source": [
    "import seaborn as sns\n",
    "import matplotlib.pyplot as plt\n",
    "sns.set(font=\"Verdana\")\n",
    "sns.set_style(\"white\")\n"
   ]
  },
  {
   "cell_type": "code",
   "execution_count": 88,
   "id": "eeedaac9",
   "metadata": {
    "pycharm": {
     "name": "#%%\n"
    }
   },
   "outputs": [
    {
     "data": {
      "text/plain": [
       "-0.620000000000001"
      ]
     },
     "execution_count": 88,
     "metadata": {},
     "output_type": "execute_result"
    }
   ],
   "source": [
    "31.51-32.13"
   ]
  },
  {
   "cell_type": "code",
   "execution_count": 90,
   "id": "73f97cfc",
   "metadata": {
    "pycharm": {
     "name": "#%%\n"
    }
   },
   "outputs": [],
   "source": [
    "df = pd.DataFrame([[-0.01, 1.5, 'de-encoder-hard'],\n",
    "                   [-0.02, 2.8, 'he-encoder-hard'],\n",
    "                   [-0.02, 0.2, 'ru-encoder-hard'],\n",
    "                   \n",
    "                   [0, 0, ''],\n",
    "                   \n",
    "                   [0, -0.1, 'de-decoder-in-hard'],\n",
    "                   [-0.04, -0.1, 'he-decoder-in-hard'],\n",
    "                   \n",
    "                   [0, 0, ' '],\n",
    "                   \n",
    "                   [0, -0.1, 'de-decoder-out-hard'],\n",
    "                   [-0.04, -0.1, 'he-decoder-out-hard'],\n",
    "                   \n",
    "                   [0, 0, '  '],\n",
    "                   [0, 0, '   '],\n",
    "                   \n",
    "                   [-0.05, -2.8, 'de-encoder-inlp'],\n",
    "                   [-0.1, -3.4, 'he-encoder-inlp'],\n",
    "                   [-0.02, -8.6, 'ru-encoder-inlp'],\n",
    "                  \n",
    "                   [0, 0, '    '],\n",
    "                  \n",
    "                   [-2.95, 2.7, 'de-decoder-in-inlp'],\n",
    "                   [-0.62, 1, 'he-decoder-in-inlp'],\n",
    "                   \n",
    "                   [0, 0, '     '],\n",
    "                  \n",
    "                   [-2.82, 3.7, 'de-decoder-out-inlp'],\n",
    "                   [-0.62, 1, 'he-decoder-out-inlp']],\n",
    "                   \n",
    "                  columns=['delta BLEU', 'delta acc', 'lang'])"
   ]
  },
  {
   "cell_type": "code",
   "execution_count": 142,
   "id": "6b5b1fc7",
   "metadata": {
    "pycharm": {
     "name": "#%%\n"
    }
   },
   "outputs": [],
   "source": [
    "from matplotlib.ticker import MultipleLocator\n"
   ]
  },
  {
   "cell_type": "code",
   "execution_count": null,
   "id": "f5d3947b",
   "metadata": {
    "scrolled": false,
    "pycharm": {
     "name": "#%%\n",
     "is_executing": true
    }
   },
   "outputs": [],
   "source": [
    "ax = sns.barplot(x=df[\"lang\"], y=df[\"delta acc\"], color=sns.color_palette()[1])\n",
    "ax = sns.barplot(x=df[\"lang\"], y=df[\"delta BLEU\"], color=sns.color_palette()[0])\n",
    "\n",
    "# plt.plot([0, 0], [0, 5], linewidth=2)\n",
    "ax.axhline(0, color='black')\n",
    "ax.set(xlabel='', ylabel='relative change')\n",
    "\n",
    "# plt.xticks(rotation=90)\n",
    "\n",
    "labels = ['$\\Delta$ acc', '$\\Delta$ BLEU']\n",
    "# plt.legend(loc='upper left', labels=['$\\Delta$ acc', '$\\Delta$ BLEU'], facecolor='w')\n",
    "handles = []\n",
    "for color, label in zip([sns.color_palette()[1], sns.color_palette()[0]], labels):\n",
    "    handles.append(plt.scatter([], [], c=color, label=label))\n",
    "plt.legend(handles=handles)\n",
    "\n",
    "for ind, bars in enumerate(ax.patches):\n",
    "    if ind < 20:\n",
    "        c = color=sns.color_palette()[1]\n",
    "        ext = 0.08\n",
    "    else:\n",
    "        c = color=sns.color_palette()[0]\n",
    "        ext = -0.4\n",
    "    \n",
    "    skip = [3, 6, 9, 10, 14, 17, 23, 26, 29, 30, 34, 37]\n",
    "    if ind not in skip:\n",
    "        if ind in [4, 5, 7, 8]:\n",
    "            ax.text(bars.get_x(), bars.get_height() + 0.25, bars.get_height(), fontsize=7, color=c)\n",
    "        elif ind in [11, 12, 13]:\n",
    "            ax.text(bars.get_x(), bars.get_height() - 0.5, bars.get_height(), fontsize=7, color=c)\n",
    "        elif ind in [31, 32, 33]:\n",
    "            ax.text(bars.get_x(), bars.get_height() + 0.3, bars.get_height(), fontsize=7, color=c)\n",
    "        else:\n",
    "            ax.text(bars.get_x()+0.15, bars.get_height() + ext, bars.get_height(), fontsize=7, color=c)\n",
    "    \n",
    "plt.xticks([0, 1, 2, 4, 5, 7, 8, 11, 12, 13, 15, 16, 18, 19])\n",
    "\n",
    "ax.set_xticklabels(['de', 'he', 'ru', 'de', 'he', 'de', 'he', 'de', 'he', 'ru', 'de', 'he', 'de', 'he'])\n",
    "\n",
    "ax.text(0.5, -11, 'Enc', fontsize=9)\n",
    "ax.text(3.5, -11, 'Dec_in', fontsize=9)\n",
    "ax.text(6.5, -11, 'Dec_out', fontsize=9)\n",
    "\n",
    "\n",
    "ax.text(11.5, -11, 'Enc', fontsize=9)\n",
    "ax.text(14.5, -11, 'Dec_in', fontsize=9)\n",
    "ax.text(17.5, -11, 'Dec_out', fontsize=9)\n",
    "\n",
    "ax.text(1.7, 4.5, 'Hard Debiasing', fontsize=12)\n",
    "ax.text(14.5, 4.5, 'INLP', fontsize=12)\n",
    "\n",
    "ax.axvline(9.5, ls='--', c='black')\n",
    "\n",
    "plt.tight_layout()\n",
    "\n",
    "plt.savefig(\"acc-bleu.pdf\")\n",
    "\n",
    "plt.show()"
   ]
  },
  {
   "cell_type": "code",
   "execution_count": 117,
   "id": "a262c165",
   "metadata": {
    "pycharm": {
     "name": "#%%\n"
    }
   },
   "outputs": [
    {
     "data": {
      "text/plain": [
       "18.6"
      ]
     },
     "execution_count": 117,
     "metadata": {},
     "output_type": "execute_result"
    }
   ],
   "source": [
    "bars.get_x()"
   ]
  },
  {
   "cell_type": "code",
   "execution_count": 120,
   "id": "60bf849a",
   "metadata": {
    "pycharm": {
     "name": "#%%\n"
    }
   },
   "outputs": [
    {
     "data": {
      "text/plain": [
       "-0.62"
      ]
     },
     "execution_count": 120,
     "metadata": {},
     "output_type": "execute_result"
    }
   ],
   "source": [
    "bars.get_height()"
   ]
  },
  {
   "cell_type": "code",
   "execution_count": 121,
   "id": "84f25401",
   "metadata": {
    "pycharm": {
     "name": "#%%\n"
    }
   },
   "outputs": [
    {
     "data": {
      "text/plain": [
       "0.8"
      ]
     },
     "execution_count": 121,
     "metadata": {},
     "output_type": "execute_result"
    }
   ],
   "source": [
    "bars.get_width()"
   ]
  },
  {
   "cell_type": "code",
   "execution_count": 100,
   "id": "d3482605",
   "metadata": {
    "pycharm": {
     "name": "#%%\n"
    }
   },
   "outputs": [
    {
     "data": {
      "text/plain": [
       "1"
      ]
     },
     "execution_count": 100,
     "metadata": {},
     "output_type": "execute_result"
    }
   ],
   "source": [
    "3 % 2"
   ]
  },
  {
   "cell_type": "code",
   "execution_count": 95,
   "id": "365d9fcf",
   "metadata": {
    "pycharm": {
     "name": "#%%\n"
    }
   },
   "outputs": [
    {
     "name": "stdout",
     "output_type": "stream",
     "text": [
      "-0.4 1.5 1.5\n",
      "0.6 2.8 2.8\n",
      "1.6 0.2 0.2\n",
      "2.6 0.0 0.0\n",
      "3.6 -0.1 -0.1\n",
      "4.6 -0.1 -0.1\n",
      "5.6 0.0 0.0\n",
      "6.6 -0.1 -0.1\n",
      "7.6 -0.1 -0.1\n",
      "8.6 0.0 0.0\n",
      "9.6 0.0 0.0\n",
      "10.6 -2.8 -2.8\n",
      "11.6 -3.4 -3.4\n",
      "12.6 -8.6 -8.6\n",
      "13.6 0.0 0.0\n",
      "14.6 2.7 2.7\n",
      "15.6 1.0 1.0\n",
      "16.6 0.0 0.0\n",
      "17.6 3.7 3.7\n",
      "18.6 1.0 1.0\n",
      "-0.4 -0.01 -0.01\n",
      "0.6 -0.02 -0.02\n",
      "1.6 -0.02 -0.02\n",
      "2.6 0.0 0.0\n",
      "3.6 0.0 0.0\n",
      "4.6 -0.04 -0.04\n",
      "5.6 0.0 0.0\n",
      "6.6 0.0 0.0\n",
      "7.6 -0.04 -0.04\n",
      "8.6 0.0 0.0\n",
      "9.6 0.0 0.0\n",
      "10.6 -0.05 -0.05\n",
      "11.6 -0.1 -0.1\n",
      "12.6 -0.02 -0.02\n",
      "13.6 0.0 0.0\n",
      "14.6 -2.95 -2.95\n",
      "15.6 -0.62 -0.62\n",
      "16.6 0.0 0.0\n",
      "17.6 -2.82 -2.82\n",
      "18.6 -0.62 -0.62\n"
     ]
    }
   ],
   "source": [
    "for bars in ax.patches:\n",
    "    print(bars.get_x(),bars.get_height(),bars.get_height())"
   ]
  },
  {
   "cell_type": "code",
   "execution_count": 96,
   "id": "56b589f9",
   "metadata": {
    "pycharm": {
     "name": "#%%\n"
    }
   },
   "outputs": [
    {
     "data": {
      "text/plain": [
       "40"
      ]
     },
     "execution_count": 96,
     "metadata": {},
     "output_type": "execute_result"
    }
   ],
   "source": [
    "len(ax.patches)"
   ]
  }
 ],
 "metadata": {
  "kernelspec": {
   "display_name": "partial_input",
   "language": "python",
   "name": "partial_input"
  },
  "language_info": {
   "codemirror_mode": {
    "name": "ipython",
    "version": 3
   },
   "file_extension": ".py",
   "mimetype": "text/x-python",
   "name": "python",
   "nbconvert_exporter": "python",
   "pygments_lexer": "ipython3",
   "version": "3.9.13"
  }
 },
 "nbformat": 4,
 "nbformat_minor": 5
}